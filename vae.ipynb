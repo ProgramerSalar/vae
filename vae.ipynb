{
 "cells": [
  {
   "cell_type": "code",
   "execution_count": 2,
   "metadata": {},
   "outputs": [],
   "source": [
    "import torch \n",
    "import torch.nn as nn \n",
    "\n",
    "import numpy as np \n",
    "from tqdm import tqdm\n",
    "from torchvision.utils import save_image, make_grid "
   ]
  },
  {
   "cell_type": "code",
   "execution_count": 3,
   "metadata": {},
   "outputs": [],
   "source": [
    "# model hyperparameters \n",
    "\n",
    "dataset_path = \"~/datasets\"\n",
    "\n",
    "cuda = True\n",
    "Device = torch.device(\"cuda\" if cuda else \"cpu\")\n",
    "\n",
    "batch_size = 100 \n",
    "x_dim = 784 \n",
    "hidden_dim = 400 \n",
    "latent_dim = 200 \n",
    "\n",
    "lr = 1e-3 \n",
    "epochs = 30"
   ]
  },
  {
   "cell_type": "markdown",
   "metadata": {},
   "source": [
    "## Step 1. Load (or download) Dataset"
   ]
  },
  {
   "cell_type": "code",
   "execution_count": 5,
   "metadata": {},
   "outputs": [],
   "source": [
    "from torchvision.datasets import MNIST\n",
    "import torchvision.transforms as transforms\n",
    "from torch.utils.data import DataLoader\n",
    "\n",
    "\n",
    "mnist_transform = transforms.Compose([\n",
    "        transforms.ToTensor(),\n",
    "])\n",
    "\n",
    "kwargs = {'num_workers': 1, 'pin_memory': True} \n",
    "\n",
    "train_dataset = MNIST(dataset_path, transform=mnist_transform, train=True, download=True)\n",
    "test_dataset  = MNIST(dataset_path, transform=mnist_transform, train=False, download=True)\n",
    "\n",
    "train_loader = DataLoader(dataset=train_dataset, batch_size=batch_size, shuffle=True, **kwargs)\n",
    "test_loader  = DataLoader(dataset=test_dataset,  batch_size=batch_size, shuffle=False, **kwargs)"
   ]
  },
  {
   "cell_type": "markdown",
   "metadata": {},
   "source": [
    "## step 2. Define our model: Variational AutoEncoder (VAE)"
   ]
  },
  {
   "cell_type": "code",
   "execution_count": 7,
   "metadata": {},
   "outputs": [],
   "source": [
    "\"\"\" \n",
    "    A simple implementation of Gaussian MLP Encoder and Decoder\n",
    "\"\"\"\n",
    "\n",
    "class Encoder(nn.Module):\n",
    "\n",
    "    def __init__(self, input_dim, hidden_dim, latent_dim):\n",
    "        super(Encoder, self).__init__()\n",
    "\n",
    "        self.FC_input = nn.Linear(input_dim, hidden_dim)\n",
    "        self.FC_input2 = nn.Linear(hidden_dim, hidden_dim)\n",
    "        self.FC_mean = nn.Linear(hidden_dim, latent_dim)\n",
    "        self.FC_var = nn.Linear(hidden_dim, latent_dim)\n",
    "\n",
    "        self.LeakyReLU = nn.LeakyReLU(0.2)\n",
    "        self.training = True\n",
    "\n",
    "\n",
    "    def forward(self, x):\n",
    "        h_ = self.LeakyReLU(self.FC_input(x))\n",
    "        h_ = self.LeakyReLU(self.FC_input2(h_))\n",
    "        mean = self.FC_mean(h_)\n",
    "        log_var = self.FC_var(h_)\n",
    "\n",
    "        return mean, log_var\n",
    "    \n",
    "\n",
    "class Decoder(nn.Module):\n",
    "\n",
    "    def __init__(self, latent_dim, hidden_dim, output_dim):\n",
    "\n",
    "        super(Decoder, self).__init__()\n",
    "        self.FC_hidden = nn.Linear(latent_dim, hidden_dim)\n",
    "        self.FC_hidden2 = nn.Linear(hidden_dim, hidden_dim)\n",
    "        self.FC_output = nn.Linear(hidden_dim, output_dim)\n",
    "\n",
    "        self.LeakyReLU = nn.LeakyReLU(0.2)\n",
    "\n",
    "    def forward(self, x):\n",
    "        h = self.LeakyReLU(self.FC_hidden(x))\n",
    "        h = self.LeakyReLU(self.FC_hidden2(h))\n",
    "\n",
    "        x_hat = torch.sigmoid(self.FC_output(h))\n",
    "        return x_hat\n",
    "    \n",
    "\n",
    "\n",
    "class Model(nn.Module):\n",
    "\n",
    "    def __init__(self, Encoder, Decoder):\n",
    "        super(Model, self).__init__()\n",
    "        self.Encoder = Encoder\n",
    "        self.Decoder = Decoder\n",
    "\n",
    "    def reparametrization(self, mean, var):\n",
    "        epsilon = torch.rand_like(var).to(Device)\n",
    "        z = mean + var*epsilon\n",
    "        return z \n",
    "    \n",
    "\n",
    "    def forward(self, x):\n",
    "        mean, log_var = self.Encoder(x)\n",
    "        z = self.reparametrization(mean, torch.exp(0.5 * log_var))  # takes exponential function (log var --> var)\n",
    "        x_hat = self.Decoder(z)\n",
    "\n",
    "\n",
    "        return x_hat, mean, log_var"
   ]
  },
  {
   "cell_type": "code",
   "execution_count": 8,
   "metadata": {},
   "outputs": [],
   "source": [
    "encoder = Encoder(input_dim=x_dim, hidden_dim=hidden_dim, latent_dim=latent_dim)\n",
    "decoder = Decoder(latent_dim=latent_dim, hidden_dim=hidden_dim, output_dim=x_dim)\n",
    "\n",
    "model = Model(Encoder=encoder, Decoder=decoder).to(Device)\n"
   ]
  },
  {
   "cell_type": "markdown",
   "metadata": {},
   "source": [
    "## setp 3. Define Loss function and optimizer"
   ]
  },
  {
   "cell_type": "code",
   "execution_count": 9,
   "metadata": {},
   "outputs": [],
   "source": [
    "from torch.optim import Adam \n",
    "BCE_loss = nn.BCELoss()\n",
    "\n",
    "def loss_function(x, x_hat, mean, log_var):\n",
    "    reproduction_loss = nn.functional.binary_cross_entropy(x_hat, x, reduction='sum')\n",
    "    KLD = -0.5 * torch.sum(1 + log_var - mean.pow(2) - log_var.exp())\n",
    "\n",
    "    return reproduction_loss + KLD \n",
    "\n",
    "\n",
    "optimizer = Adam(model.parameters(), lr=lr)"
   ]
  },
  {
   "cell_type": "markdown",
   "metadata": {},
   "source": [
    "## step 4. Train variational AutoEncoder (VAE)"
   ]
  },
  {
   "cell_type": "code",
   "execution_count": 11,
   "metadata": {},
   "outputs": [
    {
     "name": "stdout",
     "output_type": "stream",
     "text": [
      "Start training VAE...\n",
      "\tEpoch 1 complete! \tAverage Loss:  80.42917306839524\n",
      "\tEpoch 2 complete! \tAverage Loss:  80.1611106645842\n",
      "\tEpoch 3 complete! \tAverage Loss:  79.807837753678\n",
      "\tEpoch 4 complete! \tAverage Loss:  79.53088505256156\n",
      "\tEpoch 5 complete! \tAverage Loss:  79.24909598680092\n",
      "\tEpoch 6 complete! \tAverage Loss:  79.06465389092497\n",
      "\tEpoch 7 complete! \tAverage Loss:  78.85228880001826\n",
      "\tEpoch 8 complete! \tAverage Loss:  78.68576947907971\n",
      "\tEpoch 9 complete! \tAverage Loss:  78.50170450914284\n",
      "\tEpoch 10 complete! \tAverage Loss:  78.37751248011008\n",
      "\tEpoch 11 complete! \tAverage Loss:  78.2207049183535\n",
      "\tEpoch 12 complete! \tAverage Loss:  78.09610519485601\n",
      "\tEpoch 13 complete! \tAverage Loss:  77.99492220921589\n",
      "\tEpoch 14 complete! \tAverage Loss:  77.84437248930509\n",
      "\tEpoch 15 complete! \tAverage Loss:  77.74573649767842\n",
      "\tEpoch 16 complete! \tAverage Loss:  77.67127651717706\n",
      "\tEpoch 17 complete! \tAverage Loss:  77.51593656256522\n",
      "\tEpoch 18 complete! \tAverage Loss:  77.47554570116861\n",
      "\tEpoch 19 complete! \tAverage Loss:  77.34025102873278\n",
      "\tEpoch 20 complete! \tAverage Loss:  77.30133193995201\n",
      "\tEpoch 21 complete! \tAverage Loss:  77.20184400759078\n",
      "\tEpoch 22 complete! \tAverage Loss:  77.09464463885121\n",
      "\tEpoch 23 complete! \tAverage Loss:  77.02998307726419\n",
      "\tEpoch 24 complete! \tAverage Loss:  76.95185543614357\n",
      "\tEpoch 25 complete! \tAverage Loss:  76.93853747130635\n",
      "\tEpoch 26 complete! \tAverage Loss:  76.86269824707847\n",
      "\tEpoch 27 complete! \tAverage Loss:  76.74777912732158\n",
      "\tEpoch 28 complete! \tAverage Loss:  76.75613979842707\n",
      "\tEpoch 29 complete! \tAverage Loss:  76.66714837228714\n",
      "\tEpoch 30 complete! \tAverage Loss:  76.65863655408754\n",
      "Finsh!!\n"
     ]
    }
   ],
   "source": [
    "print(\"Start training VAE...\")\n",
    "model.train()\n",
    "\n",
    "\n",
    "for epoch in range(epochs):\n",
    "\n",
    "    overall_loss = 0 \n",
    "    for batch_idx, (x, _) in enumerate(train_loader):\n",
    "        x = x.view(batch_size, x_dim)\n",
    "        x = x.to(Device)\n",
    "\n",
    "        optimizer.zero_grad()\n",
    "\n",
    "        x_hat, mean, log_var = model(x)\n",
    "        loss = loss_function(x, x_hat, mean, log_var)\n",
    "\n",
    "        overall_loss += loss.item()\n",
    "\n",
    "        loss.backward()\n",
    "        optimizer.step()\n",
    "\n",
    "\n",
    "    print(\"\\tEpoch\", epoch + 1,\n",
    "          \"complete!\", \"\\tAverage Loss: \", overall_loss / (batch_idx * batch_size))\n",
    "    \n",
    "print(\"Finsh!!\")\n"
   ]
  },
  {
   "cell_type": "markdown",
   "metadata": {},
   "source": [
    "## Step 5. Generate images from test dataset"
   ]
  },
  {
   "cell_type": "code",
   "execution_count": 19,
   "metadata": {},
   "outputs": [
    {
     "name": "stderr",
     "output_type": "stream",
     "text": [
      "  0%|          | 0/100 [00:00<?, ?it/s]"
     ]
    },
    {
     "name": "stdout",
     "output_type": "stream",
     "text": [
      "x_hat tensor([[3.8741e-13, 4.7189e-13, 2.6326e-13,  ..., 8.8260e-13, 6.0173e-13,\n",
      "         7.0596e-13],\n",
      "        [1.2646e-16, 4.1777e-16, 8.4559e-17,  ..., 2.3162e-15, 4.4507e-16,\n",
      "         9.7950e-16],\n",
      "        [7.2675e-12, 9.4287e-12, 6.4877e-12,  ..., 1.6497e-11, 1.0322e-11,\n",
      "         9.9808e-12],\n",
      "        ...,\n",
      "        [4.5247e-11, 4.5422e-11, 5.4207e-11,  ..., 6.0906e-11, 5.8659e-11,\n",
      "         7.1236e-11],\n",
      "        [1.2393e-15, 1.3496e-15, 2.6531e-15,  ..., 1.4226e-15, 6.9252e-16,\n",
      "         1.3791e-15],\n",
      "        [1.6044e-15, 2.8981e-15, 3.0743e-15,  ..., 6.2173e-15, 4.4390e-15,\n",
      "         2.5859e-15]], device='cuda:0')\n",
      "_ tensor([[-0.0529, -0.0343,  0.1019,  ..., -0.3937,  0.0391,  0.0554],\n",
      "        [-0.0195,  0.0129, -1.0978,  ..., -0.5395, -0.0174, -0.1312],\n",
      "        [-0.0516, -0.0732, -0.0929,  ..., -0.0468, -0.1291, -0.0817],\n",
      "        ...,\n",
      "        [-0.0587, -0.1385, -1.0246,  ..., -0.1741, -0.0191, -0.0176],\n",
      "        [ 0.0221, -0.0308, -1.0066,  ..., -0.3743, -0.1332,  0.1801],\n",
      "        [ 0.0087,  0.0578, -0.9406,  ..., -0.5158, -0.0250, -0.0701]],\n",
      "       device='cuda:0')\n"
     ]
    },
    {
     "name": "stderr",
     "output_type": "stream",
     "text": [
      "  0%|          | 0/100 [00:02<?, ?it/s]\n"
     ]
    }
   ],
   "source": [
    "import matplotlib.pyplot as plt \n",
    "\n",
    "\n",
    "\n",
    "model.eval()\n",
    "\n",
    "with torch.no_grad():\n",
    "    for batch_idx, (x, _) in enumerate(tqdm(test_loader)):\n",
    "        x = x.view(batch_size, x_dim)\n",
    "        # print(\"x\", x)\n",
    "        x = x.to(Device)\n",
    "        # print(\"device\", x)\n",
    "\n",
    "        x_hat, _, _ = model(x)\n",
    "        print(\"x_hat\", x_hat)\n",
    "        print(\"_\", _)\n",
    "        \n",
    "\n",
    "\n",
    "\n",
    "\n",
    "        break"
   ]
  },
  {
   "cell_type": "code",
   "execution_count": 22,
   "metadata": {},
   "outputs": [
    {
     "data": {
      "image/png": "[encoded data removed]",
      "text/plain": [
       "<Figure size 640x480 with 1 Axes>"
      ]
     },
     "metadata": {},
     "output_type": "display_data"
    }
   ],
   "source": [
    "def show_image(x, idx): \n",
    "    x = x.view(batch_size, 28, 28)\n",
    "\n",
    "    fig = plt.figure()\n",
    "    plt.imshow(x[idx].cpu().numpy())\n",
    "\n",
    "show_image(x, idx=1)"
   ]
  },
  {
   "cell_type": "code",
   "execution_count": 23,
   "metadata": {},
   "outputs": [
    {
     "data": {
      "image/png": "[encoded data removed]",
      "text/plain": [
       "<Figure size 640x480 with 1 Axes>"
      ]
     },
     "metadata": {},
     "output_type": "display_data"
    }
   ],
   "source": [
    "show_image(x_hat, idx=1)"
   ]
  },
  {
   "cell_type": "markdown",
   "metadata": {},
   "source": [
    "## step 6. Generate image from noise vector"
   ]
  },
  {
   "cell_type": "code",
   "execution_count": 24,
   "metadata": {},
   "outputs": [],
   "source": [
    "with torch.no_grad():\n",
    "    noise = torch.randn(batch_size, latent_dim).to(Device)\n",
    "    generated_images = decoder(noise)"
   ]
  },
  {
   "cell_type": "code",
   "execution_count": 25,
   "metadata": {},
   "outputs": [],
   "source": [
    "save_image(generated_images.view(batch_size, 1, 28, 28), 'generated_sample.png')"
   ]
  },
  {
   "cell_type": "code",
   "execution_count": 26,
   "metadata": {},
   "outputs": [
    {
     "data": {
      "image/png": "[encoded data removed]",
      "text/plain": [
       "<Figure size 640x480 with 1 Axes>"
      ]
     },
     "metadata": {},
     "output_type": "display_data"
    }
   ],
   "source": [
    "show_image(generated_images, idx=12)"
   ]
  },
  {
   "cell_type": "code",
   "execution_count": 27,
   "metadata": {},
   "outputs": [
    {
     "data": {
      "image/png": "[encoded data removed]",
      "text/plain": [
       "<Figure size 640x480 with 1 Axes>"
      ]
     },
     "metadata": {},
     "output_type": "display_data"
    }
   ],
   "source": [
    "show_image(generated_images, idx=2)\n"
   ]
  },
  {
   "cell_type": "code",
   "execution_count": null,
   "metadata": {},
   "outputs": [],
   "source": []
  }
 ],
 "metadata": {
  "kernelspec": {
   "display_name": "Python 3",
   "language": "python",
   "name": "python3"
  },
  "language_info": {
   "codemirror_mode": {
    "name": "ipython",
    "version": 3
   },
   "file_extension": ".py",
   "mimetype": "text/x-python",
   "name": "python",
   "nbconvert_exporter": "python",
   "pygments_lexer": "ipython3",
   "version": "3.12.0b4"
  }
 },
 "nbformat": 4,
 "nbformat_minor": 2
}
