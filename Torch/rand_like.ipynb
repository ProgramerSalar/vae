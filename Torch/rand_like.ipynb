{
 "cells": [
  {
   "cell_type": "markdown",
   "metadata": {},
   "source": [
    "- create a tensor and then use `torch.rand_like()` to generate another tensor with the same shape but filled with random values."
   ]
  },
  {
   "cell_type": "code",
   "execution_count": 1,
   "metadata": {},
   "outputs": [],
   "source": [
    "import torch"
   ]
  },
  {
   "cell_type": "code",
   "execution_count": 8,
   "metadata": {},
   "outputs": [
    {
     "name": "stdout",
     "output_type": "stream",
     "text": [
      "input_tensor:  tensor([[1., 2., 3.],\n",
      "        [4., 5., 6.]])\n",
      "Random Tensor:  tensor([[0.9613, 0.7001, 0.1014],\n",
      "        [0.7422, 0.8586, 0.2122]])\n"
     ]
    }
   ],
   "source": [
    "\n",
    "\n",
    "# create an input tensor \n",
    "input_tensor = torch.tensor([[1, 2, 3], [4, 5, 6]]).float()\n",
    "# input_tensor = torch.arange(10, dtype=torch.long).float()\n",
    "\n",
    "\n",
    "# generate a tensor with the same shape and device, filled with random values \n",
    "random_tensor = torch.rand_like(input_tensor)\n",
    "\n",
    "print(\"input_tensor: \", input_tensor)\n",
    "print(\"Random Tensor: \", random_tensor)"
   ]
  },
  {
   "cell_type": "code",
   "execution_count": null,
   "metadata": {},
   "outputs": [],
   "source": []
  }
 ],
 "metadata": {
  "kernelspec": {
   "display_name": "Python 3",
   "language": "python",
   "name": "python3"
  },
  "language_info": {
   "codemirror_mode": {
    "name": "ipython",
    "version": 3
   },
   "file_extension": ".py",
   "mimetype": "text/x-python",
   "name": "python",
   "nbconvert_exporter": "python",
   "pygments_lexer": "ipython3",
   "version": "3.12.0b4"
  }
 },
 "nbformat": 4,
 "nbformat_minor": 2
}
